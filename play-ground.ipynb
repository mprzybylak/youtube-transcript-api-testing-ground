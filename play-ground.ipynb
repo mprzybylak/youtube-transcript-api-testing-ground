{
 "cells": [
  {
   "cell_type": "code",
   "execution_count": null,
   "metadata": {},
   "outputs": [],
   "source": [
    "from youtube_transcript_api import YouTubeTranscriptApi\n",
    "import pandas as pd"
   ]
  },
  {
   "cell_type": "code",
   "execution_count": null,
   "metadata": {},
   "outputs": [],
   "source": [
    "transcript = YouTubeTranscriptApi.get_transcript(\"hdwaWxY11jQ\")"
   ]
  },
  {
   "cell_type": "code",
   "execution_count": null,
   "metadata": {},
   "outputs": [],
   "source": [
    "# json formatter use json.dumps - and you can pass all arguments that works there\n",
    "from youtube_transcript_api.formatters import JSONFormatter\n",
    "\n",
    "json_formatter = JSONFormatter()\n",
    "print(json_formatter.format_transcript(transcript, indent=2)[:500])\n"
   ]
  },
  {
   "cell_type": "code",
   "execution_count": null,
   "metadata": {},
   "outputs": [],
   "source": [
    "# just a regular text formatter. each transcript entry in separate line. no way of customizing\n",
    "from youtube_transcript_api.formatters import TextFormatter\n",
    "\n",
    "text_formatter = TextFormatter()\n",
    "print(text_formatter.format_transcript(transcript)[:200])"
   ]
  },
  {
   "cell_type": "code",
   "execution_count": null,
   "metadata": {},
   "outputs": [],
   "source": [
    "# WEBVTT format - no options to customize\n",
    "from youtube_transcript_api.formatters import WebVTTFormatter\n",
    "\n",
    "webvtff_formatter = WebVTTFormatter()\n",
    "print(webvtff_formatter.format_transcript(transcript)[:200])"
   ]
  },
  {
   "cell_type": "code",
   "execution_count": null,
   "metadata": {},
   "outputs": [],
   "source": [
    "# SRV format - no options to customize\n",
    "from youtube_transcript_api.formatters import SRTFormatter\n",
    "\n",
    "srt_formatter = SRTFormatter()\n",
    "print(srt_formatter.format_transcript(transcript)[:200])"
   ]
  },
  {
   "cell_type": "code",
   "execution_count": null,
   "metadata": {},
   "outputs": [],
   "source": [
    "from io import StringIO\n",
    "\n",
    "df = pd.read_json(StringIO(json_formatter.format_transcript(transcript)))\n",
    "df = df.drop(columns=['duration'])\n",
    "df.head()"
   ]
  },
  {
   "cell_type": "code",
   "execution_count": null,
   "metadata": {},
   "outputs": [],
   "source": []
  }
 ],
 "metadata": {
  "kernelspec": {
   "display_name": ".venv",
   "language": "python",
   "name": "python3"
  },
  "language_info": {
   "codemirror_mode": {
    "name": "ipython",
    "version": 3
   },
   "file_extension": ".py",
   "mimetype": "text/x-python",
   "name": "python",
   "nbconvert_exporter": "python",
   "pygments_lexer": "ipython3",
   "version": "3.12.1"
  }
 },
 "nbformat": 4,
 "nbformat_minor": 2
}
